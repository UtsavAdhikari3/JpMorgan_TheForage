{
 "cells": [
  {
   "cell_type": "markdown",
   "id": "1df29eda",
   "metadata": {
    "id": "1df29eda"
   },
   "source": [
    "Step 0. Unzip enron1.zip into the current directory."
   ]
  },
  {
   "cell_type": "markdown",
   "id": "bf32cfce",
   "metadata": {
    "id": "bf32cfce"
   },
   "source": [
    "Step 1. Traverse the dataset and create a Pandas dataframe. This is already done for you and should run without any errors. You should recognize Pandas from task 1."
   ]
  },
  {
   "cell_type": "code",
   "execution_count": 2,
   "id": "20c5d195",
   "metadata": {
    "id": "20c5d195"
   },
   "outputs": [
    {
     "name": "stdout",
     "output_type": "stream",
     "text": [
      "skipped 4350.2005-04-23.GP.spam.txt\n",
      "skipped 5105.2005-08-31.GP.spam.txt\n",
      "skipped 4566.2005-05-24.GP.spam.txt\n",
      "skipped 3304.2004-12-26.GP.spam.txt\n",
      "skipped 2042.2004-08-30.GP.spam.txt\n",
      "skipped 1414.2004-06-24.GP.spam.txt\n",
      "skipped 0754.2004-04-01.GP.spam.txt\n",
      "skipped 2698.2004-10-31.GP.spam.txt\n",
      "skipped 2140.2004-09-13.GP.spam.txt\n",
      "skipped 2649.2004-10-27.GP.spam.txt\n",
      "skipped 3364.2005-01-01.GP.spam.txt\n",
      "skipped 2248.2004-09-23.GP.spam.txt\n",
      "skipped 2526.2004-10-17.GP.spam.txt\n",
      "skipped 4142.2005-03-31.GP.spam.txt\n",
      "skipped 4201.2005-04-05.GP.spam.txt\n"
     ]
    }
   ],
   "source": [
    "import pandas as pd\n",
    "import os\n",
    "\n",
    "def read_spam():\n",
    "    category = 'spam'\n",
    "    directory = './enron1/enron1/spam'\n",
    "    return read_category(category, directory)\n",
    "\n",
    "def read_ham():\n",
    "    category = 'ham'\n",
    "    directory = './enron1/enron1/ham'\n",
    "    return read_category(category, directory)\n",
    "\n",
    "def read_category(category, directory):\n",
    "    emails = []\n",
    "    for filename in os.listdir(directory):\n",
    "        if not filename.endswith(\".txt\"):\n",
    "            continue\n",
    "        with open(os.path.join(directory, filename), 'r') as fp:\n",
    "            try:\n",
    "                content = fp.read()\n",
    "                emails.append({'name': filename, 'content': content, 'category': category})\n",
    "            except:\n",
    "                print(f'skipped {filename}')\n",
    "    return emails\n",
    "\n",
    "ham = read_ham()\n",
    "spam = read_spam()\n",
    "\n",
    "df_ham = pd.DataFrame.from_records(ham)\n",
    "df_spam = pd.DataFrame.from_records(spam)\n",
    "\n",
    "df = pd.concat([df_ham, df_spam], ignore_index=True)"
   ]
  },
  {
   "cell_type": "markdown",
   "id": "1a1c23fd",
   "metadata": {
    "id": "1a1c23fd"
   },
   "source": [
    "Step 2. Data cleaning is a critical part of machine learning. You and I can recognize that 'Hello' and 'hello' are the same word but a machine does not know this a priori. Therefore, we can 'help' the machine by conducting such normalization steps for it. Write a function `preprocessor` that takes in a string and replaces all non alphabet characters with a space and then lowercases the result."
   ]
  },
  {
   "cell_type": "code",
   "execution_count": 3,
   "id": "c447c901",
   "metadata": {
    "id": "c447c901"
   },
   "outputs": [],
   "source": [
    "import re\n",
    "\n",
    "def preprocessor(text):\n",
    "    # Replace non-alphabetic characters with a space\n",
    "    text = re.sub('[^a-zA-Z]', ' ', text)\n",
    "    # Convert the text to lowercase\n",
    "    text = text.lower()\n",
    "    return text"
   ]
  },
  {
   "cell_type": "markdown",
   "id": "ba32521d",
   "metadata": {
    "id": "ba32521d"
   },
   "source": [
    "Step 3. We will now train the machine learning model. All the functions that you will need are imported for you. The instructions explain how the work and hint at which functions to use. You will likely need to refer to the scikit learn documentation to see how exactly to invoke the functions. It will be handy to keep that tab open."
   ]
  },
  {
   "cell_type": "code",
   "execution_count": 4,
   "id": "1442d377",
   "metadata": {
    "id": "1442d377"
   },
   "outputs": [
    {
     "name": "stdout",
     "output_type": "stream",
     "text": [
      "Accuracy:\n",
      "0.9728682170542635\n",
      "\n",
      "Confusion Matrix:\n",
      "[[720  22]\n",
      " [  6 284]]\n",
      "\n",
      "Detailed Statistics:\n",
      "              precision    recall  f1-score   support\n",
      "\n",
      "         ham       0.99      0.97      0.98       742\n",
      "        spam       0.93      0.98      0.95       290\n",
      "\n",
      "    accuracy                           0.97      1032\n",
      "   macro avg       0.96      0.97      0.97      1032\n",
      "weighted avg       0.97      0.97      0.97      1032\n",
      "\n",
      "\n"
     ]
    }
   ],
   "source": [
    "from sklearn.feature_extraction.text import CountVectorizer\n",
    "from sklearn.model_selection import train_test_split\n",
    "from sklearn.linear_model import LogisticRegression\n",
    "from sklearn.metrics import accuracy_score, confusion_matrix, classification_report\n",
    "\n",
    "# The CountVectorizer converts a text sample into a vector (think of it as an array of floats).\n",
    "# Each entry in the vector corresponds to a single word and the value is the number of times the word appeared.\n",
    "# Instantiate a CountVectorizer. Make sure to include the preprocessor you previously wrote in the constructor.\n",
    "vectorizer = CountVectorizer(preprocessor=preprocessor)\n",
    "\n",
    "# Use train_test_split to split the dataset into a train dataset and a test dataset.\n",
    "# The machine learning model learns from the train dataset.\n",
    "# Then the trained model is tested on the test dataset to see if it actually learned anything.\n",
    "# If it just memorized for example, then it would have a low accuracy on the test dataset and a high accuracy on the train dataset.\n",
    "X_train,X_test,y_train,y_test = train_test_split(df[\"content\"],df[\"category\"],test_size=0.2,random_state=1)\n",
    "\n",
    "# Use the vectorizer to transform the existing dataset into a form in which the model can learn from.\n",
    "# Remember that simple machine learning models operate on numbers, which the CountVectorizer conveniently helped us do.\n",
    "X_train_df = vectorizer.fit_transform(X_train)\n",
    "\n",
    "# Use the LogisticRegression model to fit to the train dataset.\n",
    "# You may remember y = mx + b and Linear Regression from high school. Here, we fitted a scatter plot to a line.\n",
    "# Logistic Regression is another form of regression. \n",
    "# However, Logistic Regression helps us determine if a point should be in category A or B, which is a perfect fit.\n",
    "model = LogisticRegression()\n",
    "model.fit(X_train_df,y_train)\n",
    "\n",
    "# Validate that the model has learned something.\n",
    "# Recall the model operates on vectors. First transform the test set using the vectorizer. \n",
    "# Then generate the predictions.\n",
    "X_test_df = vectorizer.transform(X_test)\n",
    "y_pred = model.predict(X_test_df)\n",
    "\n",
    "# We now want to see how we have done. We will be using three functions.\n",
    "# `accuracy_score` tells us how well we have done. \n",
    "# 90% means that every 9 of 10 entries from the test dataset were predicted accurately.\n",
    "# The `confusion_matrix` is a 2x2 matrix that gives us more insight.\n",
    "# The top left shows us how many ham emails were predicted to be ham (that's good!).\n",
    "# The bottom right shows us how many spam emails were predicted to be spam (that's good!).\n",
    "# The other two quadrants tell us the misclassifications.\n",
    "# Finally, the `classification_report` gives us detailed statistics which you may have seen in a statistics class.\n",
    "print(f'Accuracy:\\n{accuracy_score(y_test,y_pred)}\\n')\n",
    "print(f'Confusion Matrix:\\n{confusion_matrix(y_test,y_pred)}\\n')\n",
    "print(f'Detailed Statistics:\\n{classification_report(y_test,y_pred)}\\n')\n"
   ]
  },
  {
   "cell_type": "markdown",
   "id": "9674d032",
   "metadata": {
    "id": "9674d032"
   },
   "source": [
    "Step 4."
   ]
  },
  {
   "cell_type": "code",
   "execution_count": 5,
   "id": "6b7d78c9",
   "metadata": {
    "id": "6b7d78c9"
   },
   "outputs": [
    {
     "name": "stdout",
     "output_type": "stream",
     "text": [
      "\n",
      "1.238524901945605 http\n",
      "0.8874581552786079 no\n",
      "0.8648247035995024 hello\n",
      "0.8497080176609517 prices\n",
      "0.751384016028981 remove\n",
      "0.73152137296696 removed\n",
      "0.7148372580342659 free\n",
      "0.6951291967025505 paliourg\n",
      "0.6782191472283936 only\n",
      "0.6175877415171128 off\n",
      "\n",
      "-1.5766834931779 attached\n",
      "-1.5565300530448152 daren\n",
      "-1.4699354675956047 enron\n",
      "-1.3824676744477056 thanks\n",
      "-1.2508559616698638 meter\n",
      "-1.1949277810846435 doc\n",
      "-1.1566127866914646 xls\n",
      "-1.0069737007231547 deal\n",
      "-0.9870100576633077 hpl\n",
      "-0.9809512207113621 texas\n"
     ]
    }
   ],
   "source": [
    "# Let's see which features (aka columns) the vectorizer created. \n",
    "# They should be all the words that were contained in the training dataset.\n",
    "features = vectorizer.get_feature_names_out()\n",
    "\n",
    "# You may be wondering what a machine learning model is tangibly. It is just a collection of numbers. \n",
    "# You can access these numbers known as \"coefficients\" from the coef_ property of the model\n",
    "# We will be looking at coef_[0] which represents the importance of each feature.\n",
    "# What does importance mean in this context?\n",
    "# Some words are more important than others for the model.\n",
    "# It's nothing personal, just that spam emails tend to contain some words more frequently.\n",
    "# This indicates to the model that having that word would make a new email more likely to be spam.\n",
    "importance = model.coef_[0]\n",
    "\n",
    "# Iterate over importance and find the top 10 positive features with the largest magnitude.\n",
    "# Similarly, find the top 10 negative features with the largest magnitude.\n",
    "# Positive features correspond to spam. Negative features correspond to ham.\n",
    "# You will see that `http` is the strongest feature that corresponds to spam emails. \n",
    "# It makes sense. Spam emails often want you to click on a link.\n",
    "l = list(enumerate(importance))\n",
    "print()\n",
    "l.sort(key=lambda e: e[1], reverse=True)\n",
    "for i,imp in l[:10]:\n",
    "    print(imp, features[i])\n",
    "print()\n",
    "l.sort(key=lambda e: -e[1], reverse=True)\n",
    "for i,imp in l[:10]:\n",
    "    print(imp, features[i])"
   ]
  },
  {
   "cell_type": "markdown",
   "id": "d267e7ad",
   "metadata": {
    "id": "d267e7ad"
   },
   "source": [
    "Submission\n",
    "1. Upload the jupyter notebook to Forage."
   ]
  },
  {
   "cell_type": "markdown",
   "id": "LI4u_ZUGToDQ",
   "metadata": {
    "id": "LI4u_ZUGToDQ"
   },
   "source": [
    "All Done!"
   ]
  }
 ],
 "metadata": {
  "colab": {
   "collapsed_sections": [],
   "name": "task3.ipynb",
   "provenance": []
  },
  "kernelspec": {
   "display_name": "Python 3 (ipykernel)",
   "language": "python",
   "name": "python3"
  },
  "language_info": {
   "codemirror_mode": {
    "name": "ipython",
    "version": 3
   },
   "file_extension": ".py",
   "mimetype": "text/x-python",
   "name": "python",
   "nbconvert_exporter": "python",
   "pygments_lexer": "ipython3",
   "version": "3.11.8"
  }
 },
 "nbformat": 4,
 "nbformat_minor": 5
}
